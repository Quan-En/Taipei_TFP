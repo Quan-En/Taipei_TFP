{
 "cells": [
  {
   "cell_type": "code",
   "execution_count": 1,
   "metadata": {},
   "outputs": [],
   "source": [
    "import torch\n",
    "import torch.nn as nn\n",
    "import torch.optim as optim\n",
    "import numpy as np\n",
    "import os\n",
    "from time import time\n",
    "import shutil\n",
    "import argparse\n",
    "import configparser\n",
    "from model.ASTGCN_r import make_model\n",
    "from lib.utils import load_graphdata_channel1, get_adjacency_matrix, compute_val_loss_mstgcn, predict_and_save_results_mstgcn\n",
    "from tensorboardX import SummaryWriter"
   ]
  },
  {
   "cell_type": "code",
   "execution_count": 4,
   "metadata": {},
   "outputs": [
    {
     "name": "stdout",
     "output_type": "stream",
     "text": [
      "CUDA: False cpu\n",
      "folder_dir: astgcn_r_h1d0w0_channel1_1.000000e-03\n",
      "params_path: experiments/PEMS08/astgcn_r_h1d0w0_channel1_1.000000e-03\n",
      "load file: ./data/PEMS08/PEMS08_r1_d0_w0_astcgn\n",
      "train: torch.Size([10699, 170, 3, 12]) torch.Size([10699, 170, 12])\n",
      "val: torch.Size([3567, 170, 3, 12]) torch.Size([3567, 170, 12])\n",
      "test: torch.Size([3567, 170, 3, 12]) torch.Size([3567, 170, 12])\n"
     ]
    }
   ],
   "source": [
    "config = configparser.ConfigParser()\n",
    "\n",
    "config.read(\"configurations/PEMS08_astgcn.conf\")\n",
    "data_config = config['Data']\n",
    "training_config = config['Training']\n",
    "\n",
    "adj_filename = data_config['adj_filename']\n",
    "graph_signal_matrix_filename = data_config['graph_signal_matrix_filename']\n",
    "if config.has_option('Data', 'id_filename'):\n",
    "    id_filename = data_config['id_filename']\n",
    "else:\n",
    "    id_filename = None\n",
    "\n",
    "num_of_vertices = int(data_config['num_of_vertices'])\n",
    "points_per_hour = int(data_config['points_per_hour'])\n",
    "num_for_predict = int(data_config['num_for_predict'])\n",
    "len_input = int(data_config['len_input'])\n",
    "dataset_name = data_config['dataset_name']\n",
    "\n",
    "model_name = training_config['model_name']\n",
    "\n",
    "ctx = training_config['ctx']\n",
    "os.environ[\"CUDA_VISIBLE_DEVICES\"] = ctx\n",
    "USE_CUDA = torch.cuda.is_available()\n",
    "DEVICE = torch.device('cuda:0' if USE_CUDA else \"cpu\")\n",
    "print(\"CUDA:\", USE_CUDA, DEVICE)\n",
    "\n",
    "learning_rate = float(training_config['learning_rate'])\n",
    "epochs = int(training_config['epochs'])\n",
    "start_epoch = int(training_config['start_epoch'])\n",
    "batch_size = int(training_config['batch_size'])\n",
    "num_of_weeks = int(training_config['num_of_weeks'])\n",
    "num_of_days = int(training_config['num_of_days'])\n",
    "num_of_hours = int(training_config['num_of_hours'])\n",
    "time_strides = num_of_hours\n",
    "nb_chev_filter = int(training_config['nb_chev_filter'])\n",
    "nb_time_filter = int(training_config['nb_time_filter'])\n",
    "in_channels = int(training_config['in_channels'])\n",
    "nb_block = int(training_config['nb_block'])\n",
    "K = int(training_config['K'])\n",
    "\n",
    "folder_dir = '%s_h%dd%dw%d_channel%d_%e' % (model_name, num_of_hours, num_of_days, num_of_weeks, in_channels, learning_rate)\n",
    "print('folder_dir:', folder_dir)\n",
    "params_path = os.path.join('experiments', dataset_name, folder_dir)\n",
    "print('params_path:', params_path)\n",
    "\n",
    "\n",
    "train_loader, train_target_tensor, val_loader, val_target_tensor, test_loader, test_target_tensor, _mean, _std = load_graphdata_channel1(\n",
    "    graph_signal_matrix_filename, num_of_hours,\n",
    "    num_of_days, num_of_weeks, DEVICE, batch_size)"
   ]
  },
  {
   "cell_type": "code",
   "execution_count": 8,
   "metadata": {},
   "outputs": [
    {
     "data": {
      "text/plain": [
       "[torch.Size([32, 170, 3, 12]), torch.Size([32, 170, 12])]"
      ]
     },
     "execution_count": 8,
     "metadata": {},
     "output_type": "execute_result"
    }
   ],
   "source": [
    "list(map(lambda x: x.shape, next(iter(train_loader))))"
   ]
  },
  {
   "cell_type": "code",
   "execution_count": 7,
   "metadata": {},
   "outputs": [
    {
     "data": {
      "text/plain": [
       "(12, 1, 0, 0)"
      ]
     },
     "execution_count": 7,
     "metadata": {},
     "output_type": "execute_result"
    }
   ],
   "source": [
    "len_input, num_of_hours, num_of_days, num_of_weeks"
   ]
  }
 ],
 "metadata": {
  "kernelspec": {
   "display_name": "Python 3",
   "language": "python",
   "name": "python3"
  },
  "language_info": {
   "codemirror_mode": {
    "name": "ipython",
    "version": 3
   },
   "file_extension": ".py",
   "mimetype": "text/x-python",
   "name": "python",
   "nbconvert_exporter": "python",
   "pygments_lexer": "ipython3",
   "version": "3.6.9"
  }
 },
 "nbformat": 4,
 "nbformat_minor": 4
}
